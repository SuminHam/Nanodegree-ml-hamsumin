{
 "cells": [
  {
   "cell_type": "code",
   "execution_count": null,
   "metadata": {},
   "outputs": [],
   "source": [
    "EASY\n",
    "https://leetcode.com/problems/big-countries/description/ \n",
    "https://leetcode.com/problems/duplicate-emails/description/ \n",
    "\n",
    "MEDIUM\n",
    "https://leetcode.com/problems/combine-two-tables/description/\n",
    "https://leetcode.com/problems/employees-earning-more-than-their-managers/description/\n",
    "\n",
    "HARD\n",
    "https://leetcode.com/problems/average-time-of-process-per-machine/description/ \n"
   ]
  },
  {
   "cell_type": "markdown",
   "metadata": {},
   "source": [
    "[1] https://leetcode.com/problems/big-countries/description/\n",
    "\n",
    "[Solution]\n",
    "```sql\n",
    "select name\n",
    "     , population\n",
    "     , area\n",
    " from world\n",
    "where population >= 25000000\n",
    "   or area >= 3000000\n",
    "```"
   ]
  },
  {
   "cell_type": "markdown",
   "metadata": {},
   "source": [
    "[2] https://leetcode.com/problems/duplicate-emails/description/\n",
    "\n",
    "[Solution]\n",
    "```sql\n",
    "select email\n",
    "  from person\n",
    "group by email\n",
    "   having count(email)>1;\n",
    "```"
   ]
  },
  {
   "cell_type": "markdown",
   "metadata": {},
   "source": [
    "[3] https://leetcode.com/problems/combine-two-tables/description/\n",
    "\n",
    "[Solution]\n",
    "```sql\n",
    "select firstName\n",
    "     , lastName\n",
    "     , city\n",
    "     , state\n",
    "  from Address as a\n",
    "  right join Person as p\n",
    "               on p.personId=a.personId;\n",
    "```\n",
    "[Solution from other]\n",
    "```sql\n",
    "select firstName, lastName, city, state\n",
    "  from Person \n",
    "  left join Address using(personId);\n",
    "```\n",
    "using..참고만 해두자. "
   ]
  },
  {
   "cell_type": "markdown",
   "metadata": {},
   "source": [
    "[4] https://leetcode.com/problems/employees-earning-more-than-their-managers/description/\n",
    "\n",
    "[Solution]\n",
    "```sql\n",
    " select name as Employee\n",
    "   from Employee e\n",
    "   join (\n",
    "    select id\n",
    "         , salary\n",
    "      from Employee\n",
    "   ) m on e.managerId = m.id\n",
    "   where m.salary<e.salary;\n",
    "```\n",
    "\n",
    "[another Solution]\n",
    "```sql\n",
    "SELECT e2.name as Employee\n",
    "FROM employee e1\n",
    "INNER JOIN employee e2 ON e1.id = e2.managerID\n",
    "WHERE e1.salary < e2.salary\n",
    "```"
   ]
  },
  {
   "cell_type": "markdown",
   "metadata": {},
   "source": [
    "[5] https://leetcode.com/problems/average-time-of-process-per-machine/description/ \n",
    "\n",
    "[Solution from others]\n",
    "```sql\n",
    "select _a1.machine_id\n",
    "     , round(avg(_a2.timestamp-_a1.timestamp), 3) as processing_time\n",
    "  from Activity _a1\n",
    "  join Activity _a2\n",
    "    on _a1.machine_id=_a2.machine_id and _a1.process_id = _a2.process_id\n",
    "   and _a1.activity_type='start'     and _a2.activity_type='end'\n",
    "   group by _a1.machine_id\n",
    "```\n",
    "\n",
    "[Solution from ssam]\n",
    "```sql\n",
    "    with _processing_time as(\n",
    "  select _end.machine_id\n",
    "       , _end.process_id\n",
    "       , (_end.timestamp - _start.timestamp) as processing_time\n",
    "    from activity as _end\n",
    "    join activity as _start\n",
    "      on _end.machine_id = _start.machine_id\n",
    "     and _end.process_id = _start.process_id\n",
    "   where _end.activity_type = 'end'\n",
    "     and _start.activity_type = 'start'\n",
    "    )\n",
    "  select machine_id\n",
    "       , round(avg(processing_time)::numeric,3) as processing_time\n",
    "    from _processing_time\n",
    "group by machine_id\n",
    "```\n",
    "join과 on의 쓰임새가 내가 생각했던것보다 넓은것같다.<br>\n",
    "생각보다 많은 조건들이 처리가 된다.<br>\n",
    "** 꼭 다시 풀어볼 것 **<br>"
   ]
  }
 ],
 "metadata": {
  "language_info": {
   "name": "python"
  }
 },
 "nbformat": 4,
 "nbformat_minor": 2
}
