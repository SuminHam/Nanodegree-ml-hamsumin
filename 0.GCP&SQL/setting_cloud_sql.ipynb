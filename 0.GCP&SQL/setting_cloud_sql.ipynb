{
 "cells": [
  {
   "cell_type": "markdown",
   "metadata": {},
   "source": [
    "# Cloud_SQL\n",
    "\n",
    "### PostgreSQL 인스턴스 생성\n",
    "\n",
    "앞으로 회사에 들어가거나 한다면 세부 설정은 달라지겠지만, 참고하자.\n",
    "\n",
    "gcp에서 cloud sql 검색 -> PostgreSQL 선택 <br>\n",
    "PostgreSQL 14버전 <br>\n",
    "공유 코어, 1 vCPU, 1.7GB 메모리, 10GB 스토리지 <br>\n",
    "리전 us-central-1 아이오와, 영역 가용성은 단일 영역 <br>\n",
    "\n",
    "### 데이터베이스 생성\n",
    "\n",
    "서버에 접속(gcp 서버)\n",
    "\n",
    "* ubuntu 패키지 리스트 업데이트 <br>\n",
    "apt update && apt upgrade <br>\n",
    "sudo apt update && sudo apt upgrade <br>\n",
    "\n",
    "* postgres 레포지토리 설정 후 패키지 업데이트\n",
    "\n",
    "sudo sh -c 'echo \"deb http://apt.postgresql.org/pub/repos/apt $(lsb_release -cs)-pgdg main\" > /etc/apt/sources.list.d/pgdg.list'\n",
    "\n",
    "sudo apt update\n",
    "\n",
    "* postgresql-14 설치\n",
    "\n",
    "sudo apt-get -y install postgresql-14<br>\n",
    "설치 후 psql, pg_dump, pg_restore 명령어를 사용햇을 때 제대로 출력이 된다면 설치 완료.\n",
    "\n",
    "* 데이터베이스 다운로드(이번건 예시)\n",
    "\n",
    "wget https://www.postgresqltutorial.com/postgresql-getting-started/postgresql-sample-database/\n",
    "\n",
    "sudo apt install unzip (그냥 unzip 설치)\n",
    "\n",
    "unzip dvdrental.zip\n",
    "\n",
    "* 데이터베이스 복구 (몇가지 설정이 빠져서 timeout 발생할 것)\n",
    "  \n",
    "  pg_restore -h 34.64.175.81 -p 5432 -U postgres -d postgres ./dvdrental.tar\n",
    "\n",
    "  -h : host (CloudSQL의 공개 IP 주소)<br>\n",
    "  -p : port<br>\n",
    "  -U : 유저 이름\n",
    "  -d : 데이터베이스 이름\n",
    "\n",
    "* 외부 접근 허용\n",
    "  \n",
    "  GCP 상단 탭에 Cloud ADmin API 검색 <br>\n",
    "  생성한 인스턴스 선택 후 좌측 탭의 연결-네트워킹으로 이동 <br>\n",
    "  승인된 네트워크에 0.0.0.0/0 추가 후 저장 (모든 서버의 접속에 대해 허용) <br>\n",
    "  pg_restore 를 통해 다시 데이터베이스 복구\n",
    "\n",
    "* 데이터베이스에 접속 (많은 툴이 있지만 우리의 경우 dbeaver)\n",
    "\n",
    "  좌측 상단에 + 버튼 클릭 후 PostgreSQL 선택 <br>\n",
    "  좌측 상단의 + 버튼 클릭 후 PostgreSQL 선택 <br>\n",
    "  Host, Password 입력 <br>\n",
    "  Test Connection... 클릭 후 Finish버튼 클릭 <br>\n",
    "  "
   ]
  },
  {
   "cell_type": "markdown",
   "metadata": {},
   "source": []
  },
  {
   "cell_type": "markdown",
   "metadata": {},
   "source": []
  }
 ],
 "metadata": {
  "language_info": {
   "name": "python"
  }
 },
 "nbformat": 4,
 "nbformat_minor": 2
}
