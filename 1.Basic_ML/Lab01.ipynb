{
 "cells": [
  {
   "cell_type": "markdown",
   "metadata": {},
   "source": [
    "#### Leetcode 1393. Capital Gain/Loss"
   ]
  },
  {
   "cell_type": "code",
   "execution_count": null,
   "metadata": {},
   "outputs": [],
   "source": [
    "import pandas as pd\n",
    "\n",
    "def sign_price(row):\n",
    "    if row['operation']=='Buy':\n",
    "        return -row['price']\n",
    "    else:\n",
    "        return row['price']\n",
    "\n",
    "def capital_gainloss(stocks: pd.DataFrame) -> pd.DataFrame:\n",
    "    stocks['capital_gain_loss']=stocks.apply(sign_price, axis=1)\n",
    "    agg_stocks=stocks.groupby(by='stock_name').sum().reset_index()\n",
    "\n",
    "    return agg_stocks[['stock_name','capital_gain_loss']]"
   ]
  }
 ],
 "metadata": {
  "language_info": {
   "name": "python"
  }
 },
 "nbformat": 4,
 "nbformat_minor": 2
}
